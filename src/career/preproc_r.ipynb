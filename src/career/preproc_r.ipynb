{
 "cells": [
  {
   "cell_type": "code",
   "execution_count": 1,
   "metadata": {},
   "outputs": [
    {
     "name": "stderr",
     "output_type": "stream",
     "text": [
      "-- Attaching packages --------------------------------------- tidyverse 1.2.1 --\n",
      "v ggplot2 3.1.0       v purrr   0.3.0  \n",
      "v tibble  2.0.1       v dplyr   0.8.0.1\n",
      "v tidyr   0.8.2       v stringr 1.4.0  \n",
      "v readr   1.3.1       v forcats 0.4.0  \n",
      "-- Conflicts ------------------------------------------ tidyverse_conflicts() --\n",
      "x dplyr::arrange()   masks plyr::arrange()\n",
      "x purrr::compact()   masks plyr::compact()\n",
      "x dplyr::count()     masks plyr::count()\n",
      "x dplyr::failwith()  masks plyr::failwith()\n",
      "x dplyr::filter()    masks stats::filter()\n",
      "x dplyr::id()        masks plyr::id()\n",
      "x dplyr::lag()       masks stats::lag()\n",
      "x dplyr::mutate()    masks plyr::mutate()\n",
      "x dplyr::rename()    masks plyr::rename()\n",
      "x dplyr::summarise() masks plyr::summarise()\n",
      "x dplyr::summarize() masks plyr::summarize()\n"
     ]
    }
   ],
   "source": [
    "library(\"plyr\")\n",
    "library(descr)\n",
    "library(\"tidyverse\")\n",
    "data <- read.csv(file=\"../input/Career.csv\")"
   ]
  },
  {
   "cell_type": "code",
   "execution_count": 2,
   "metadata": {},
   "outputs": [
    {
     "data": {
      "text/html": [
       "<table>\n",
       "<thead><tr><th scope=col>college</th><th scope=col>year</th><th scope=col>stream</th><th scope=col>cgpa</th><th scope=col>X12th</th><th scope=col>X10th</th><th scope=col>career</th><th scope=col>parents</th><th scope=col>income</th><th scope=col>locality</th><th scope=col>state</th></tr></thead>\n",
       "<tbody>\n",
       "\t<tr><td><span style=white-space:pre-wrap>IIITs     </span>                                </td><td>2nd                                                                               </td><td><span style=white-space:pre-wrap>Computer science and engineering,         </span></td><td>&lt;6                                                                             </td><td>Private School                                                                    </td><td>Private School                                                                    </td><td><span style=white-space:pre-wrap>Higher study      </span>                        </td><td>Public Sector                                                                     </td><td>&gt; 10 lakhs                                                                     </td><td>Urban                                                                             </td><td><span style=white-space:pre-wrap>Rajasthan    </span>                             </td></tr>\n",
       "\t<tr><td>Government                                </td><td>4th                                       </td><td>Chemical engineering,                     </td><td>6-8                                       </td><td>Private School                            </td><td>Private School                            </td><td>Public Sector Job                         </td><td>Public Sector                             </td><td>3-6 lakhs                                 </td><td>Urban                                     </td><td>Haryana                                   </td></tr>\n",
       "\t<tr><td><span style=white-space:pre-wrap>NITs      </span>                                </td><td>4th                                                                               </td><td><span style=white-space:pre-wrap>Civil engineering,                        </span></td><td>6-8                                                                               </td><td>Private School                                                                    </td><td>Private School                                                                    </td><td>Public Sector Job                                                                 </td><td>Self-Employed                                                                     </td><td>&lt; 3 lakhs                                                                      </td><td>Rural                                                                             </td><td><span style=white-space:pre-wrap>Rajasthan    </span>                             </td></tr>\n",
       "\t<tr><td>Government                                                </td><td>4th                                                       </td><td>Electronics and communication engineering,                </td><td>6-8                                                       </td><td>Private School                                            </td><td>Private School                                            </td><td><span style=white-space:pre-wrap>Entrepreneurship  </span></td><td>Public Sector                                             </td><td>&gt; 10 lakhs                                             </td><td>Urban                                                     </td><td><span style=white-space:pre-wrap>Delhi        </span>     </td></tr>\n",
       "\t<tr><td>Private                                   </td><td>3rd                                       </td><td>Information technology,                   </td><td>6-8                                       </td><td>Private School                            </td><td>Private School                            </td><td>Private Sector job                        </td><td>Business                                  </td><td>3-6 lakhs                                 </td><td>Urban                                     </td><td>Uttar Pradesh                             </td></tr>\n",
       "\t<tr><td><span style=white-space:pre-wrap>IIITs     </span>                                </td><td>1st                                                                               </td><td><span style=white-space:pre-wrap>Computer science and engineering,         </span></td><td>&gt;8                                                                             </td><td>Private School                                                                    </td><td>Private School                                                                    </td><td>Private Sector job                                                                </td><td>Self-Employed                                                                     </td><td>3-6 lakhs                                                                         </td><td>Urban                                                                             </td><td>Uttar Pradesh                                                                     </td></tr>\n",
       "</tbody>\n",
       "</table>\n"
      ],
      "text/latex": [
       "\\begin{tabular}{r|lllllllllll}\n",
       " college & year & stream & cgpa & X12th & X10th & career & parents & income & locality & state\\\\\n",
       "\\hline\n",
       "\t IIITs                                      & 2nd                                        & Computer science and engineering,          & <6                                         & Private School                             & Private School                             & Higher study                               & Public Sector                              & > 10 lakhs                                 & Urban                                      & Rajasthan                                 \\\\\n",
       "\t Government                                 & 4th                                        & Chemical engineering,                      & 6-8                                        & Private School                             & Private School                             & Public Sector Job                          & Public Sector                              & 3-6 lakhs                                  & Urban                                      & Haryana                                   \\\\\n",
       "\t NITs                                       & 4th                                        & Civil engineering,                         & 6-8                                        & Private School                             & Private School                             & Public Sector Job                          & Self-Employed                              & < 3 lakhs                                  & Rural                                      & Rajasthan                                 \\\\\n",
       "\t Government                                 & 4th                                        & Electronics and communication engineering, & 6-8                                        & Private School                             & Private School                             & Entrepreneurship                           & Public Sector                              & > 10 lakhs                                 & Urban                                      & Delhi                                     \\\\\n",
       "\t Private                                    & 3rd                                        & Information technology,                    & 6-8                                        & Private School                             & Private School                             & Private Sector job                         & Business                                   & 3-6 lakhs                                  & Urban                                      & Uttar Pradesh                             \\\\\n",
       "\t IIITs                                      & 1st                                        & Computer science and engineering,          & >8                                         & Private School                             & Private School                             & Private Sector job                         & Self-Employed                              & 3-6 lakhs                                  & Urban                                      & Uttar Pradesh                             \\\\\n",
       "\\end{tabular}\n"
      ],
      "text/markdown": [
       "\n",
       "| college | year | stream | cgpa | X12th | X10th | career | parents | income | locality | state |\n",
       "|---|---|---|---|---|---|---|---|---|---|---|\n",
       "| IIITs                                      | 2nd                                        | Computer science and engineering,          | <6                                         | Private School                             | Private School                             | Higher study                               | Public Sector                              | > 10 lakhs                                 | Urban                                      | Rajasthan                                  |\n",
       "| Government                                 | 4th                                        | Chemical engineering,                      | 6-8                                        | Private School                             | Private School                             | Public Sector Job                          | Public Sector                              | 3-6 lakhs                                  | Urban                                      | Haryana                                    |\n",
       "| NITs                                       | 4th                                        | Civil engineering,                         | 6-8                                        | Private School                             | Private School                             | Public Sector Job                          | Self-Employed                              | < 3 lakhs                                  | Rural                                      | Rajasthan                                  |\n",
       "| Government                                 | 4th                                        | Electronics and communication engineering, | 6-8                                        | Private School                             | Private School                             | Entrepreneurship                           | Public Sector                              | > 10 lakhs                                 | Urban                                      | Delhi                                      |\n",
       "| Private                                    | 3rd                                        | Information technology,                    | 6-8                                        | Private School                             | Private School                             | Private Sector job                         | Business                                   | 3-6 lakhs                                  | Urban                                      | Uttar Pradesh                              |\n",
       "| IIITs                                      | 1st                                        | Computer science and engineering,          | >8                                         | Private School                             | Private School                             | Private Sector job                         | Self-Employed                              | 3-6 lakhs                                  | Urban                                      | Uttar Pradesh                              |\n",
       "\n"
      ],
      "text/plain": [
       "  college    year stream                                     cgpa\n",
       "1 IIITs      2nd  Computer science and engineering,          <6  \n",
       "2 Government 4th  Chemical engineering,                      6-8 \n",
       "3 NITs       4th  Civil engineering,                         6-8 \n",
       "4 Government 4th  Electronics and communication engineering, 6-8 \n",
       "5 Private    3rd  Information technology,                    6-8 \n",
       "6 IIITs      1st  Computer science and engineering,          >8  \n",
       "  X12th          X10th          career             parents       income    \n",
       "1 Private School Private School Higher study       Public Sector > 10 lakhs\n",
       "2 Private School Private School Public Sector Job  Public Sector 3-6 lakhs \n",
       "3 Private School Private School Public Sector Job  Self-Employed < 3 lakhs \n",
       "4 Private School Private School Entrepreneurship   Public Sector > 10 lakhs\n",
       "5 Private School Private School Private Sector job Business      3-6 lakhs \n",
       "6 Private School Private School Private Sector job Self-Employed 3-6 lakhs \n",
       "  locality state        \n",
       "1 Urban    Rajasthan    \n",
       "2 Urban    Haryana      \n",
       "3 Rural    Rajasthan    \n",
       "4 Urban    Delhi        \n",
       "5 Urban    Uttar Pradesh\n",
       "6 Urban    Uttar Pradesh"
      ]
     },
     "metadata": {},
     "output_type": "display_data"
    }
   ],
   "source": [
    "head(data)"
   ]
  },
  {
   "cell_type": "code",
   "execution_count": 3,
   "metadata": {},
   "outputs": [
    {
     "data": {
      "text/plain": [
       "       college     year                                            stream   \n",
       " Government: 48   1st:104   Computer science and engineering,         :123  \n",
       " IIITs     :133   2nd: 56   Electronics and communication engineering,: 89  \n",
       " IITs      :  6   3rd: 81   Mechanical engineering,                   : 33  \n",
       " NITs      :109   4th: 97   Electrical engineering,                   : 25  \n",
       " Private   : 42             Civil engineering,                        : 17  \n",
       "                            Information technology,                   : 16  \n",
       "                            (Other)                                   : 35  \n",
       "  cgpa                X12th                X10th                    career   \n",
       " <6 : 25   Private School:237   Private School:243   Defence           : 18  \n",
       " >8 :128   Public School :101   Public School : 95   Entrepreneurship  : 36  \n",
       " 6-8:185                                             Family business   :  2  \n",
       "                                                     Higher study      : 43  \n",
       "                                                     Private Sector job:107  \n",
       "                                                     Public Sector Job :132  \n",
       "                                                                             \n",
       "           parents           income    locality              state    \n",
       " Business      : 49   < 3 lakhs :92   Rural:106   Rajasthan     :142  \n",
       " Defence       : 15   > 10 lakhs:69   Urban:232   Uttar Pradesh :102  \n",
       " Private Sector: 51   3-6 lakhs :96               Madhya Pradesh: 16  \n",
       " Public Sector :150   6-10 lakhs:81               Haryana       : 14  \n",
       " Self-Employed : 73                               Kerala        : 14  \n",
       "                                                  Delhi         :  9  \n",
       "                                                  (Other)       : 41  "
      ]
     },
     "metadata": {},
     "output_type": "display_data"
    }
   ],
   "source": [
    "summary(data)"
   ]
  },
  {
   "cell_type": "code",
   "execution_count": 4,
   "metadata": {},
   "outputs": [
    {
     "name": "stdout",
     "output_type": "stream",
     "text": [
      "'data.frame':\t338 obs. of  11 variables:\n",
      " $ college : Factor w/ 5 levels \"Government\",\"IIITs\",..: 2 1 4 1 5 2 2 2 2 2 ...\n",
      " $ year    : Factor w/ 4 levels \"1st\",\"2nd\",\"3rd\",..: 2 4 4 4 3 1 2 2 3 1 ...\n",
      " $ stream  : Factor w/ 13 levels \"Biological engineering\",..: 5 2 3 8 9 5 8 5 8 8 ...\n",
      " $ cgpa    : Factor w/ 3 levels \"<6\",\">8\",\"6-8\": 1 3 3 3 3 2 1 3 3 1 ...\n",
      " $ X12th   : Factor w/ 2 levels \"Private School\",..: 1 1 1 1 1 1 2 1 1 1 ...\n",
      " $ X10th   : Factor w/ 2 levels \"Private School\",..: 1 1 1 1 1 1 2 1 1 1 ...\n",
      " $ career  : Factor w/ 6 levels \"Defence\",\"Entrepreneurship\",..: 4 6 6 2 5 5 6 5 5 2 ...\n",
      " $ parents : Factor w/ 5 levels \"Business\",\"Defence\",..: 4 4 5 4 1 5 5 4 3 1 ...\n",
      " $ income  : Factor w/ 4 levels \"< 3 lakhs\",\"> 10 lakhs\",..: 2 3 1 2 3 3 1 4 1 2 ...\n",
      " $ locality: Factor w/ 2 levels \"Rural\",\"Urban\": 2 2 1 2 2 2 1 2 2 2 ...\n",
      " $ state   : Factor w/ 19 levels \"Abroad\",\"Andhra Pradesh\",..: 15 6 15 4 17 17 3 17 15 17 ...\n"
     ]
    }
   ],
   "source": [
    "str(data)"
   ]
  },
  {
   "cell_type": "code",
   "execution_count": 5,
   "metadata": {},
   "outputs": [
    {
     "name": "stderr",
     "output_type": "stream",
     "text": [
      "The following `from` values were not present in `x`: Mechatronics engineering,, Environmental engineering,, Architecture and construction engineering,, Highway engineering,, Marine engineering,, Automobile engineering,, Aeronautical engineering,, Aerospace engineering,, Telecommunication engineering,, Electronics and communication engineering,, Agricultural engineering,, Instrumental engineering,, Architectural, Biological Science, Bio-Medical, Nuclear engineering, Systems engineering\n"
     ]
    }
   ],
   "source": [
    "data$stream <- revalue(data$stream,c(\n",
    "    'Computer science and engineering,'='COMP','Electronics and communication engineering,'='ELEC',\n",
    "    'Information technology,'='COMP','Mechanical engineering,'='MECH','Civil engineering,'='MECH',\n",
    "    'Mechatronics engineering,'='MECH','Electrical and electronics and engineering'='ELEC',\n",
    "    'Environmental engineering,'='CHEM','Architecture and construction engineering,'='MECH',\n",
    "    'Highway engineering,'='MECH','Computer engineering,'='COMP','Marine engineering,'='CHEM',\n",
    "    'Automobile engineering,'='MECH','Aeronautical engineering,'='MECH','Aerospace engineering,'='MECH',\n",
    "    'Telecommunication engineering,'='ELEC','Electronics and communication engineering,'='ELEC',\n",
    "    'Agricultural engineering,'='CHEM','Production and industrial engineering,'='MECH',\n",
    "    'Chemical engineering,'='CHEM','Electrical engineering,'='ELEC','Instrumental engineering,'='ELEC',\n",
    "    'Mining engineering,'='CHEM','Architectural'='MECH','Biological Science'='CHEM','Bio-Medical'='CHEM',\n",
    "    'Biological engineering'='CHEM','Nuclear engineering'='CHEM','Systems engineering'='COMP','Others'=-1\n",
    "))"
   ]
  },
  {
   "cell_type": "code",
   "execution_count": 6,
   "metadata": {},
   "outputs": [
    {
     "name": "stderr",
     "output_type": "stream",
     "text": [
      "The following `from` values were not present in `x`: Chandigarh, Arunachal Pradesh, Assam, Chhattisgarh, Goa, Himachal Pradesh, Jammu and Kashmir, Manipur, Meghalaya, Mizoram, Nagaland, Sikkim, Tamil Nadu, Tripura, Andaman and Nicobar Islands, Dadra and Nagar Haveli, Daman and Diu, Pondicherry\n"
     ]
    }
   ],
   "source": [
    "data$state <- revalue(data$state,c(\n",
    "    'Rajasthan'='W','Delhi'='N','Haryana'='N','Punjab'='N','Chandigarh'='N','Andhra Pradesh'='S',\n",
    "    'Telangana'='S','Arunachal Pradesh'='E','Assam'='E','Bihar'='C','Chhattisgarh'='C','Goa'='S',\n",
    "    'Gujarat'='W','Himachal Pradesh'='N','Jammu and Kashmir'='N','Jharkhand'='C','Karnataka'='S',\n",
    "    'Kerala'='S','Madhya Pradesh'='C','Maharashtra'='C','Manipur'='E','Meghalaya'='E','Mizoram'='E',\n",
    "    'Nagaland'='E','Odisha'='E','Sikkim'='E','Tamil Nadu'='S','Tripura'='E','Uttar Pradesh'='N',\n",
    "    'Uttarakhand'='N','West Bengal'='E','Andaman and Nicobar Islands'='S',\n",
    "    'Dadra and Nagar Haveli'='W','Daman and Diu'='W','Lakshadweep'='S','Pondicherry'='S',\n",
    "    'Abroad'=-1\n",
    "))"
   ]
  },
  {
   "cell_type": "code",
   "execution_count": 9,
   "metadata": {},
   "outputs": [],
   "source": [
    "data$career <- revalue(data$career,c('Defence'='DEF','Entrepreneurship'='E','Family business'='FB','Higher study'='HS',\n",
    "                                     'Private Sector job'='PRIVATE','Public Sector Job'='PUBLIC'))\n",
    "    "
   ]
  },
  {
   "cell_type": "code",
   "execution_count": 10,
   "metadata": {},
   "outputs": [
    {
     "name": "stdout",
     "output_type": "stream",
     "text": [
      "'data.frame':\t338 obs. of  11 variables:\n",
      " $ college : Factor w/ 5 levels \"Government\",\"IIITs\",..: 2 1 4 1 5 2 2 2 2 2 ...\n",
      " $ year    : Factor w/ 4 levels \"1st\",\"2nd\",\"3rd\",..: 2 4 4 4 3 1 2 2 3 1 ...\n",
      " $ stream  : Factor w/ 5 levels \"CHEM\",\"MECH\",..: 3 1 2 4 3 3 4 3 4 4 ...\n",
      " $ cgpa    : Factor w/ 3 levels \"<6\",\">8\",\"6-8\": 1 3 3 3 3 2 1 3 3 1 ...\n",
      " $ X12th   : Factor w/ 2 levels \"Private School\",..: 1 1 1 1 1 1 2 1 1 1 ...\n",
      " $ X10th   : Factor w/ 2 levels \"Private School\",..: 1 1 1 1 1 1 2 1 1 1 ...\n",
      " $ career  : Factor w/ 6 levels \"DEF\",\"E\",\"FB\",..: 4 6 6 2 5 5 6 5 5 2 ...\n",
      " $ parents : Factor w/ 5 levels \"Business\",\"Defence\",..: 4 4 5 4 1 5 5 4 3 1 ...\n",
      " $ income  : Factor w/ 4 levels \"< 3 lakhs\",\"> 10 lakhs\",..: 2 3 1 2 3 3 1 4 1 2 ...\n",
      " $ locality: Factor w/ 2 levels \"Rural\",\"Urban\": 2 2 1 2 2 2 1 2 2 2 ...\n",
      " $ state   : Factor w/ 6 levels \"-1\",\"S\",\"C\",\"N\",..: 5 4 5 4 4 4 3 4 5 4 ...\n"
     ]
    }
   ],
   "source": [
    "str(data)"
   ]
  },
  {
   "cell_type": "code",
   "execution_count": null,
   "metadata": {},
   "outputs": [],
   "source": [
    "ggplot(data,aes(x=college )) +\n",
    "    geom_bin2d(aes(y=career))"
   ]
  },
  {
   "cell_type": "code",
   "execution_count": 18,
   "metadata": {
    "scrolled": true
   },
   "outputs": [
    {
     "name": "stderr",
     "output_type": "stream",
     "text": [
      "Saving 6.67 x 6.67 in image\n"
     ]
    },
    {
     "data": {
      "image/png": "[encoded data removed]",
      "text/plain": [
       "plot without title"
      ]
     },
     "metadata": {},
     "output_type": "display_data"
    }
   ],
   "source": [
    "ggsave(filename=\"../analysis/college.jpg\", plot=last_plot())\n",
    "ggplot(data,aes(year  ,career)) +\n",
    "    geom_bin2d()"
   ]
  },
  {
   "cell_type": "code",
   "execution_count": 16,
   "metadata": {
    "scrolled": true
   },
   "outputs": [
    {
     "name": "stderr",
     "output_type": "stream",
     "text": [
      "Saving 6.67 x 6.67 in image\n"
     ]
    },
    {
     "data": {
      "image/png": "[encoded data removed]",
      "text/plain": [
       "plot without title"
      ]
     },
     "metadata": {},
     "output_type": "display_data"
    }
   ],
   "source": [
    "ggsave(filename=\"../analysis/year.jpg\", plot=last_plot())\n",
    "ggplot(data,aes(stream  ,career)) +\n",
    "    geom_bin2d()"
   ]
  },
  {
   "cell_type": "code",
   "execution_count": 17,
   "metadata": {
    "scrolled": true
   },
   "outputs": [
    {
     "name": "stderr",
     "output_type": "stream",
     "text": [
      "Saving 6.67 x 6.67 in image\n"
     ]
    },
    {
     "data": {
      "image/png": "[encoded data removed]",
      "text/plain": [
       "plot without title"
      ]
     },
     "metadata": {},
     "output_type": "display_data"
    }
   ],
   "source": [
    "ggsave(filename=\"../analysis/stream.jpg\", plot=last_plot())\n",
    "ggplot(data,aes(cgpa    ,career)) +\n",
    "    geom_bin2d()"
   ]
  },
  {
   "cell_type": "code",
   "execution_count": 18,
   "metadata": {
    "scrolled": true
   },
   "outputs": [
    {
     "name": "stderr",
     "output_type": "stream",
     "text": [
      "Saving 6.67 x 6.67 in image\n"
     ]
    },
    {
     "data": {
      "image/png": "[encoded data removed]",
      "text/plain": [
       "plot without title"
      ]
     },
     "metadata": {},
     "output_type": "display_data"
    }
   ],
   "source": [
    "ggsave(filename=\"../analysis/cgpa.jpg\", plot=last_plot())\n",
    "ggplot(data,aes(X12th   ,career)) +\n",
    "    geom_bin2d()"
   ]
  },
  {
   "cell_type": "code",
   "execution_count": 19,
   "metadata": {
    "scrolled": true
   },
   "outputs": [
    {
     "name": "stderr",
     "output_type": "stream",
     "text": [
      "Saving 6.67 x 6.67 in image\n"
     ]
    },
    {
     "data": {
      "image/png": "[encoded data removed]",
      "text/plain": [
       "plot without title"
      ]
     },
     "metadata": {},
     "output_type": "display_data"
    }
   ],
   "source": [
    "ggsave(filename=\"../analysis/X12th.jpg\", plot=last_plot())\n",
    "ggplot(data,aes(X10th   ,career)) +\n",
    "    geom_bin2d()"
   ]
  },
  {
   "cell_type": "code",
   "execution_count": 20,
   "metadata": {
    "scrolled": true
   },
   "outputs": [
    {
     "name": "stderr",
     "output_type": "stream",
     "text": [
      "Saving 6.67 x 6.67 in image\n"
     ]
    },
    {
     "data": {
      "image/png": "[encoded data removed]",
      "text/plain": [
       "plot without title"
      ]
     },
     "metadata": {},
     "output_type": "display_data"
    }
   ],
   "source": [
    "ggsave(filename=\"../analysis/X10th.jpg\", plot=last_plot())\n",
    "ggplot(data,aes(parents ,career)) +\n",
    "    geom_bin2d()"
   ]
  },
  {
   "cell_type": "code",
   "execution_count": 21,
   "metadata": {
    "scrolled": true
   },
   "outputs": [
    {
     "name": "stderr",
     "output_type": "stream",
     "text": [
      "Saving 6.67 x 6.67 in image\n"
     ]
    },
    {
     "data": {
      "image/png": "[encoded data removed]",
      "text/plain": [
       "plot without title"
      ]
     },
     "metadata": {},
     "output_type": "display_data"
    }
   ],
   "source": [
    "ggsave(filename=\"../analysis/parents.jpg\", plot=last_plot())\n",
    "ggplot(data,aes(income  ,career)) +\n",
    "    geom_bin2d()"
   ]
  },
  {
   "cell_type": "code",
   "execution_count": 22,
   "metadata": {
    "scrolled": true
   },
   "outputs": [
    {
     "name": "stderr",
     "output_type": "stream",
     "text": [
      "Saving 6.67 x 6.67 in image\n"
     ]
    },
    {
     "data": {
      "image/png": "[encoded data removed]",
      "text/plain": [
       "plot without title"
      ]
     },
     "metadata": {},
     "output_type": "display_data"
    }
   ],
   "source": [
    "ggsave(filename=\"../analysis/income.jpg\", plot=last_plot())\n",
    "ggplot(data,aes(locality,career)) +\n",
    "    geom_bin2d()"
   ]
  },
  {
   "cell_type": "code",
   "execution_count": 23,
   "metadata": {
    "scrolled": true
   },
   "outputs": [
    {
     "name": "stderr",
     "output_type": "stream",
     "text": [
      "Saving 6.67 x 6.67 in image\n"
     ]
    },
    {
     "data": {
      "image/png": "[encoded data removed]",
      "text/plain": [
       "plot without title"
      ]
     },
     "metadata": {},
     "output_type": "display_data"
    }
   ],
   "source": [
    "ggsave(filename=\"../analysis/locality.jpg\", plot=last_plot())\n",
    "ggplot(data,aes(state   ,career)) +\n",
    "    geom_bin2d()"
   ]
  },
  {
   "cell_type": "code",
   "execution_count": 24,
   "metadata": {},
   "outputs": [
    {
     "name": "stderr",
     "output_type": "stream",
     "text": [
      "Saving 6.67 x 6.67 in image\n"
     ]
    }
   ],
   "source": [
    "ggsave(filename=\"../analysis/state.jpg\", plot=last_plot())"
   ]
  },
  {
   "cell_type": "code",
   "execution_count": 13,
   "metadata": {
    "scrolled": false
   },
   "outputs": [
    {
     "data": {
      "text/plain": [
       "   Cell Contents \n",
       "|-------------------------|\n",
       "|                   Count | \n",
       "|             Row Percent | \n",
       "|-------------------------|\n",
       "\n",
       "=======================================================================\n",
       "                data$career\n",
       "data$college      DEF       E     FB      HS   PRIVATE   PUBLIC   Total\n",
       "-----------------------------------------------------------------------\n",
       "Government         5       4      1       6         6       26      48 \n",
       "                10.4%    8.3%   2.1%   12.5%     12.5%    54.2%   14.2%\n",
       "-----------------------------------------------------------------------\n",
       "IIITs              4      11      0      17        56       45     133 \n",
       "                 3.0%    8.3%   0.0%   12.8%     42.1%    33.8%   39.3%\n",
       "-----------------------------------------------------------------------\n",
       "IITs               0       1      0       1         2        2       6 \n",
       "                 0.0%   16.7%   0.0%   16.7%     33.3%    33.3%    1.8%\n",
       "-----------------------------------------------------------------------\n",
       "NITs               6      14      0      12        31       46     109 \n",
       "                 5.5%   12.8%   0.0%   11.0%     28.4%    42.2%   32.2%\n",
       "-----------------------------------------------------------------------\n",
       "Private            3       6      1       7        12       13      42 \n",
       "                 7.1%   14.3%   2.4%   16.7%     28.6%    31.0%   12.4%\n",
       "-----------------------------------------------------------------------\n",
       "Total             18      36      2      43       107      132     338 \n",
       "======================================================================="
      ]
     },
     "metadata": {},
     "output_type": "display_data"
    },
    {
     "data": {
      "text/html": [
       "<strong>png:</strong> 2"
      ],
      "text/latex": [
       "\\textbf{png:} 2"
      ],
      "text/markdown": [
       "**png:** 2"
      ],
      "text/plain": [
       "png \n",
       "  2 "
      ]
     },
     "metadata": {},
     "output_type": "display_data"
    },
    {
     "data": {
      "text/plain": [
       "   Cell Contents \n",
       "|-------------------------|\n",
       "|                   Count | \n",
       "|             Row Percent | \n",
       "|-------------------------|\n",
       "\n",
       "===================================================================\n",
       "             data$career\n",
       "data$year     DEF       E     FB      HS   PRIVATE   PUBLIC   Total\n",
       "-------------------------------------------------------------------\n",
       "1st            8      11      0      18        35       32     104 \n",
       "             7.7%   10.6%   0.0%   17.3%     33.7%    30.8%   30.8%\n",
       "-------------------------------------------------------------------\n",
       "2nd            3       6      1       5        20       21      56 \n",
       "             5.4%   10.7%   1.8%    8.9%     35.7%    37.5%   16.6%\n",
       "-------------------------------------------------------------------\n",
       "3rd            5       6      1       7        18       44      81 \n",
       "             6.2%    7.4%   1.2%    8.6%     22.2%    54.3%   24.0%\n",
       "-------------------------------------------------------------------\n",
       "4th            2      13      0      13        34       35      97 \n",
       "             2.1%   13.4%   0.0%   13.4%     35.1%    36.1%   28.7%\n",
       "-------------------------------------------------------------------\n",
       "Total         18      36      2      43       107      132     338 \n",
       "==================================================================="
      ]
     },
     "metadata": {},
     "output_type": "display_data"
    },
    {
     "data": {
      "text/html": [
       "<strong>png:</strong> 2"
      ],
      "text/latex": [
       "\\textbf{png:} 2"
      ],
      "text/markdown": [
       "**png:** 2"
      ],
      "text/plain": [
       "png \n",
       "  2 "
      ]
     },
     "metadata": {},
     "output_type": "display_data"
    },
    {
     "data": {
      "text/plain": [
       "   Cell Contents \n",
       "|-------------------------|\n",
       "|                   Count | \n",
       "|             Row Percent | \n",
       "|-------------------------|\n",
       "\n",
       "======================================================================\n",
       "               data$career\n",
       "data$stream      DEF       E     FB      HS   PRIVATE   PUBLIC   Total\n",
       "----------------------------------------------------------------------\n",
       "CHEM              0       1      0       2         2        7      12 \n",
       "                0.0%    8.3%   0.0%   16.7%     16.7%    58.3%    3.6%\n",
       "----------------------------------------------------------------------\n",
       "MECH              3       8      0       4         7       30      52 \n",
       "                5.8%   15.4%   0.0%    7.7%     13.5%    57.7%   15.4%\n",
       "----------------------------------------------------------------------\n",
       "COMP              7      14      0      21        69       32     143 \n",
       "                4.9%    9.8%   0.0%   14.7%     48.3%    22.4%   42.3%\n",
       "----------------------------------------------------------------------\n",
       "ELEC              7      12      2      14        27       59     121 \n",
       "                5.8%    9.9%   1.7%   11.6%     22.3%    48.8%   35.8%\n",
       "----------------------------------------------------------------------\n",
       "-1                1       1      0       2         2        4      10 \n",
       "               10.0%   10.0%   0.0%   20.0%     20.0%    40.0%    3.0%\n",
       "----------------------------------------------------------------------\n",
       "Total            18      36      2      43       107      132     338 \n",
       "======================================================================"
      ]
     },
     "metadata": {},
     "output_type": "display_data"
    },
    {
     "data": {
      "text/html": [
       "<strong>png:</strong> 2"
      ],
      "text/latex": [
       "\\textbf{png:} 2"
      ],
      "text/markdown": [
       "**png:** 2"
      ],
      "text/plain": [
       "png \n",
       "  2 "
      ]
     },
     "metadata": {},
     "output_type": "display_data"
    },
    {
     "data": {
      "text/plain": [
       "   Cell Contents \n",
       "|-------------------------|\n",
       "|                   Count | \n",
       "|             Row Percent | \n",
       "|-------------------------|\n",
       "\n",
       "====================================================================\n",
       "             data$career\n",
       "data$cgpa      DEF       E     FB      HS   PRIVATE   PUBLIC   Total\n",
       "--------------------------------------------------------------------\n",
       "<6              4       6      0       1         5        9      25 \n",
       "             16.0%   24.0%   0.0%    4.0%     20.0%    36.0%    7.4%\n",
       "--------------------------------------------------------------------\n",
       ">8              4      10      0      19        51       44     128 \n",
       "              3.1%    7.8%   0.0%   14.8%     39.8%    34.4%   37.9%\n",
       "--------------------------------------------------------------------\n",
       "6-8            10      20      2      23        51       79     185 \n",
       "              5.4%   10.8%   1.1%   12.4%     27.6%    42.7%   54.7%\n",
       "--------------------------------------------------------------------\n",
       "Total          18      36      2      43       107      132     338 \n",
       "===================================================================="
      ]
     },
     "metadata": {},
     "output_type": "display_data"
    },
    {
     "data": {
      "text/html": [
       "<strong>png:</strong> 2"
      ],
      "text/latex": [
       "\\textbf{png:} 2"
      ],
      "text/markdown": [
       "**png:** 2"
      ],
      "text/plain": [
       "png \n",
       "  2 "
      ]
     },
     "metadata": {},
     "output_type": "display_data"
    },
    {
     "data": {
      "text/plain": [
       "   Cell Contents \n",
       "|-------------------------|\n",
       "|                   Count | \n",
       "|             Row Percent | \n",
       "|-------------------------|\n",
       "\n",
       "========================================================================\n",
       "                  data$career\n",
       "data$X12th         DEF       E     FB      HS   PRIVATE   PUBLIC   Total\n",
       "------------------------------------------------------------------------\n",
       "Private School     10      26      0      30        76       95     237 \n",
       "                  4.2%   11.0%   0.0%   12.7%     32.1%    40.1%   70.1%\n",
       "------------------------------------------------------------------------\n",
       "Public School       8      10      2      13        31       37     101 \n",
       "                  7.9%    9.9%   2.0%   12.9%     30.7%    36.6%   29.9%\n",
       "------------------------------------------------------------------------\n",
       "Total              18      36      2      43       107      132     338 \n",
       "========================================================================"
      ]
     },
     "metadata": {},
     "output_type": "display_data"
    },
    {
     "data": {
      "text/html": [
       "<strong>png:</strong> 2"
      ],
      "text/latex": [
       "\\textbf{png:} 2"
      ],
      "text/markdown": [
       "**png:** 2"
      ],
      "text/plain": [
       "png \n",
       "  2 "
      ]
     },
     "metadata": {},
     "output_type": "display_data"
    },
    {
     "data": {
      "text/plain": [
       "   Cell Contents \n",
       "|-------------------------|\n",
       "|                   Count | \n",
       "|             Row Percent | \n",
       "|-------------------------|\n",
       "\n",
       "========================================================================\n",
       "                  data$career\n",
       "data$X10th         DEF       E     FB      HS   PRIVATE   PUBLIC   Total\n",
       "------------------------------------------------------------------------\n",
       "Private School     10      24      2      28        79      100     243 \n",
       "                  4.1%    9.9%   0.8%   11.5%     32.5%    41.2%   71.9%\n",
       "------------------------------------------------------------------------\n",
       "Public School       8      12      0      15        28       32      95 \n",
       "                  8.4%   12.6%   0.0%   15.8%     29.5%    33.7%   28.1%\n",
       "------------------------------------------------------------------------\n",
       "Total              18      36      2      43       107      132     338 \n",
       "========================================================================"
      ]
     },
     "metadata": {},
     "output_type": "display_data"
    },
    {
     "data": {
      "text/html": [
       "<strong>png:</strong> 2"
      ],
      "text/latex": [
       "\\textbf{png:} 2"
      ],
      "text/markdown": [
       "**png:** 2"
      ],
      "text/plain": [
       "png \n",
       "  2 "
      ]
     },
     "metadata": {},
     "output_type": "display_data"
    },
    {
     "data": {
      "text/plain": [
       "   Cell Contents \n",
       "|-------------------------|\n",
       "|                   Count | \n",
       "|             Row Percent | \n",
       "|-------------------------|\n",
       "\n",
       "=========================================================================\n",
       "                  data$career\n",
       "data$parents        DEF       E     FB      HS   PRIVATE   PUBLIC   Total\n",
       "-------------------------------------------------------------------------\n",
       "Business             2      11      1       4        16       15      49 \n",
       "                   4.1%   22.4%   2.0%    8.2%     32.7%    30.6%   14.5%\n",
       "-------------------------------------------------------------------------\n",
       "Defence              3       0      0       0         6        6      15 \n",
       "                  20.0%    0.0%   0.0%    0.0%     40.0%    40.0%    4.4%\n",
       "-------------------------------------------------------------------------\n",
       "Private Sector       3       4      0       7        19       18      51 \n",
       "                   5.9%    7.8%   0.0%   13.7%     37.3%    35.3%   15.1%\n",
       "-------------------------------------------------------------------------\n",
       "Public Sector        6      14      0      25        47       58     150 \n",
       "                   4.0%    9.3%   0.0%   16.7%     31.3%    38.7%   44.4%\n",
       "-------------------------------------------------------------------------\n",
       "Self-Employed        4       7      1       7        19       35      73 \n",
       "                   5.5%    9.6%   1.4%    9.6%     26.0%    47.9%   21.6%\n",
       "-------------------------------------------------------------------------\n",
       "Total               18      36      2      43       107      132     338 \n",
       "========================================================================="
      ]
     },
     "metadata": {},
     "output_type": "display_data"
    },
    {
     "data": {
      "text/html": [
       "<strong>png:</strong> 2"
      ],
      "text/latex": [
       "\\textbf{png:} 2"
      ],
      "text/markdown": [
       "**png:** 2"
      ],
      "text/plain": [
       "png \n",
       "  2 "
      ]
     },
     "metadata": {},
     "output_type": "display_data"
    },
    {
     "data": {
      "text/plain": [
       "   Cell Contents \n",
       "|-------------------------|\n",
       "|                   Count | \n",
       "|             Row Percent | \n",
       "|-------------------------|\n",
       "\n",
       "=====================================================================\n",
       "               data$career\n",
       "data$income     DEF       E     FB      HS   PRIVATE   PUBLIC   Total\n",
       "---------------------------------------------------------------------\n",
       "< 3 lakhs        7       6      1       5        26       47      92 \n",
       "               7.6%    6.5%   1.1%    5.4%     28.3%    51.1%   27.2%\n",
       "---------------------------------------------------------------------\n",
       "> 10 lakhs       4      11      0      15        18       21      69 \n",
       "               5.8%   15.9%   0.0%   21.7%     26.1%    30.4%   20.4%\n",
       "---------------------------------------------------------------------\n",
       "3-6 lakhs        6       9      0      10        31       40      96 \n",
       "               6.2%    9.4%   0.0%   10.4%     32.3%    41.7%   28.4%\n",
       "---------------------------------------------------------------------\n",
       "6-10 lakhs       1      10      1      13        32       24      81 \n",
       "               1.2%   12.3%   1.2%   16.0%     39.5%    29.6%   24.0%\n",
       "---------------------------------------------------------------------\n",
       "Total           18      36      2      43       107      132     338 \n",
       "====================================================================="
      ]
     },
     "metadata": {},
     "output_type": "display_data"
    },
    {
     "data": {
      "text/html": [
       "<strong>png:</strong> 2"
      ],
      "text/latex": [
       "\\textbf{png:} 2"
      ],
      "text/markdown": [
       "**png:** 2"
      ],
      "text/plain": [
       "png \n",
       "  2 "
      ]
     },
     "metadata": {},
     "output_type": "display_data"
    },
    {
     "data": {
      "text/plain": [
       "   Cell Contents \n",
       "|-------------------------|\n",
       "|                   Count | \n",
       "|             Row Percent | \n",
       "|-------------------------|\n",
       "\n",
       "=======================================================================\n",
       "                 data$career\n",
       "data$locality     DEF       E     FB      HS   PRIVATE   PUBLIC   Total\n",
       "-----------------------------------------------------------------------\n",
       "Rural              9       9      1       8        27       52     106 \n",
       "                 8.5%    8.5%   0.9%    7.5%     25.5%    49.1%   31.4%\n",
       "-----------------------------------------------------------------------\n",
       "Urban              9      27      1      35        80       80     232 \n",
       "                 3.9%   11.6%   0.4%   15.1%     34.5%    34.5%   68.6%\n",
       "-----------------------------------------------------------------------\n",
       "Total             18      36      2      43       107      132     338 \n",
       "======================================================================="
      ]
     },
     "metadata": {},
     "output_type": "display_data"
    },
    {
     "data": {
      "text/html": [
       "<strong>png:</strong> 2"
      ],
      "text/latex": [
       "\\textbf{png:} 2"
      ],
      "text/markdown": [
       "**png:** 2"
      ],
      "text/plain": [
       "png \n",
       "  2 "
      ]
     },
     "metadata": {},
     "output_type": "display_data"
    },
    {
     "data": {
      "text/plain": [
       "   Cell Contents \n",
       "|-------------------------|\n",
       "|                   Count | \n",
       "|             Row Percent | \n",
       "|-------------------------|\n",
       "\n",
       "======================================================================\n",
       "              data$career\n",
       "data$state      DEF        E     FB      HS   PRIVATE   PUBLIC   Total\n",
       "----------------------------------------------------------------------\n",
       "-1               0        1      0       0         0        0       1 \n",
       "               0.0%   100.0%   0.0%    0.0%      0.0%     0.0%    0.3%\n",
       "----------------------------------------------------------------------\n",
       "S                1        5      0       4         7        7      24 \n",
       "               4.2%    20.8%   0.0%   16.7%     29.2%    29.2%    7.1%\n",
       "----------------------------------------------------------------------\n",
       "C                2        2      0       4        12       10      30 \n",
       "               6.7%     6.7%   0.0%   13.3%     40.0%    33.3%    8.9%\n",
       "----------------------------------------------------------------------\n",
       "N                9       13      2      18        36       52     130 \n",
       "               6.9%    10.0%   1.5%   13.8%     27.7%    40.0%   38.5%\n",
       "----------------------------------------------------------------------\n",
       "W                4       15      0      16        50       63     148 \n",
       "               2.7%    10.1%   0.0%   10.8%     33.8%    42.6%   43.8%\n",
       "----------------------------------------------------------------------\n",
       "E                2        0      0       1         2        0       5 \n",
       "              40.0%     0.0%   0.0%   20.0%     40.0%     0.0%    1.5%\n",
       "----------------------------------------------------------------------\n",
       "Total           18       36      2      43       107      132     338 \n",
       "======================================================================"
      ]
     },
     "metadata": {},
     "output_type": "display_data"
    },
    {
     "data": {
      "text/html": [
       "<strong>png:</strong> 2"
      ],
      "text/latex": [
       "\\textbf{png:} 2"
      ],
      "text/markdown": [
       "**png:** 2"
      ],
      "text/plain": [
       "png \n",
       "  2 "
      ]
     },
     "metadata": {},
     "output_type": "display_data"
    }
   ],
   "source": [
    "jpeg(\"../analysis/college-mosaic.png\")\n",
    "crosstab(data$college,data$career, prop.r=TRUE, format=c(\"SPSS\")) \n",
    "dev.off()\n",
    "jpeg(\"../analysis/year-mosaic.png\")\n",
    "crosstab(data$year,data$career, prop.r=TRUE, format=c(\"SPSS\")) \n",
    "dev.off()\n",
    "jpeg(\"../analysis/stream-mosaic.png\")\n",
    "crosstab(data$stream,data$career, prop.r=TRUE, format=c(\"SPSS\")) \n",
    "dev.off()\n",
    "jpeg(\"../analysis/cgpa-mosaic.png\")\n",
    "crosstab(data$cgpa,data$career, prop.r=TRUE, format=c(\"SPSS\")) \n",
    "dev.off()\n",
    "jpeg(\"../analysis/X12th-mosaic.png\")\n",
    "crosstab(data$X12th,data$career, prop.r=TRUE, format=c(\"SPSS\")) \n",
    "dev.off()\n",
    "jpeg(\"../analysis/X10th-mosaic.png\")\n",
    "crosstab(data$X10th,data$career, prop.r=TRUE, format=c(\"SPSS\")) \n",
    "dev.off()\n",
    "jpeg(\"../analysis/parents-mosaic.png\")\n",
    "crosstab(data$parents,data$career, prop.r=TRUE, format=c(\"SPSS\")) \n",
    "dev.off()\n",
    "jpeg(\"../analysis/income-mosaic.png\")\n",
    "crosstab(data$income,data$career, prop.r=TRUE, format=c(\"SPSS\")) \n",
    "dev.off()\n",
    "jpeg(\"../analysis/locality-mosaic.png\")\n",
    "crosstab(data$locality,data$career, prop.r=TRUE, format=c(\"SPSS\")) \n",
    "dev.off()\n",
    "jpeg(\"../analysis/state-mosaic.png\")\n",
    "crosstab(data$state,data$career, prop.r=TRUE, format=c(\"SPSS\")) \n",
    "dev.off()"
   ]
  },
  {
   "cell_type": "code",
   "execution_count": null,
   "metadata": {},
   "outputs": [],
   "source": []
  }
 ],
 "metadata": {
  "kernelspec": {
   "display_name": "R",
   "language": "R",
   "name": "ir"
  },
  "language_info": {
   "codemirror_mode": "r",
   "file_extension": ".r",
   "mimetype": "text/x-r-source",
   "name": "R",
   "pygments_lexer": "r",
   "version": "3.5.2"
  }
 },
 "nbformat": 4,
 "nbformat_minor": 2
}
