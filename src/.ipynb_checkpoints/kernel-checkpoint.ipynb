{
 "cells": [
  {
   "cell_type": "code",
   "execution_count": null,
   "metadata": {
    "_uuid": "85bbd6270317d3f949b38c746216d19c6bbefe5e"
   },
   "outputs": [],
   "source": [
    "library(\"plyr\")\n",
    "library(descr)\n",
    "library(\"partykit\")\n",
    "library(\"tidyverse\")\n",
    "data <- read.csv(file=\"../input/Career.csv\")"
   ]
  },
  {
   "cell_type": "code",
   "execution_count": null,
   "metadata": {
    "_uuid": "54668e164a707682b174b1ffb9a09d3d528d4249"
   },
   "outputs": [],
   "source": [
    "head(data)"
   ]
  },
  {
   "cell_type": "code",
   "execution_count": null,
   "metadata": {
    "_uuid": "f6edbd6ce6667d1b550a7e02b343058f1eceac63"
   },
   "outputs": [],
   "source": [
    "summary(data)"
   ]
  },
  {
   "cell_type": "code",
   "execution_count": null,
   "metadata": {
    "_uuid": "69547f97b6743a90dbe0b2d93d97d4c3e048a657"
   },
   "outputs": [],
   "source": [
    "str(data)"
   ]
  },
  {
   "cell_type": "code",
   "execution_count": null,
   "metadata": {
    "_uuid": "a575af786ba44aa27aab8e1a672d0b7458bb96a8"
   },
   "outputs": [],
   "source": [
    "data$stream <- revalue(data$stream,c(\n",
    "    'Computer science and engineering,'='COMP','Electronics and communication engineering,'='ELEC',\n",
    "    'Information technology,'='COMP','Mechanical engineering,'='MECH','Civil engineering,'='MECH',\n",
    "    'Mechatronics engineering,'='MECH','Electrical and electronics and engineering'='ELEC',\n",
    "    'Environmental engineering,'='CHEM','Architecture and construction engineering,'='MECH',\n",
    "    'Highway engineering,'='MECH','Computer engineering,'='COMP','Marine engineering,'='CHEM',\n",
    "    'Automobile engineering,'='MECH','Aeronautical engineering,'='MECH','Aerospace engineering,'='MECH',\n",
    "    'Telecommunication engineering,'='ELEC','Electronics and communication engineering,'='ELEC',\n",
    "    'Agricultural engineering,'='CHEM','Production and industrial engineering,'='MECH',\n",
    "    'Chemical engineering,'='CHEM','Electrical engineering,'='ELEC','Instrumental engineering,'='ELEC',\n",
    "    'Mining engineering,'='CHEM','Architectural'='MECH','Biological Science'='CHEM','Bio-Medical'='CHEM',\n",
    "    'Biological engineering'='CHEM','Nuclear engineering'='CHEM','Systems engineering'='COMP','Others'=-1\n",
    "))"
   ]
  },
  {
   "cell_type": "code",
   "execution_count": null,
   "metadata": {
    "_uuid": "78141fdb164208770942f3773516a079df6f498f"
   },
   "outputs": [],
   "source": [
    "data$state <- revalue(data$state,c(\n",
    "    'Rajasthan'='W','Delhi'='N','Haryana'='N','Punjab'='N','Chandigarh'='N','Andhra Pradesh'='S',\n",
    "    'Telangana'='S','Arunachal Pradesh'='E','Assam'='E','Bihar'='C','Chhattisgarh'='C','Goa'='S',\n",
    "    'Gujarat'='W','Himachal Pradesh'='N','Jammu and Kashmir'='N','Jharkhand'='C','Karnataka'='S',\n",
    "    'Kerala'='S','Madhya Pradesh'='C','Maharashtra'='C','Manipur'='E','Meghalaya'='E','Mizoram'='E',\n",
    "    'Nagaland'='E','Odisha'='E','Sikkim'='E','Tamil Nadu'='S','Tripura'='E','Uttar Pradesh'='N',\n",
    "    'Uttarakhand'='N','West Bengal'='E','Andaman and Nicobar Islands'='S',\n",
    "    'Dadra and Nagar Haveli'='W','Daman and Diu'='W','Lakshadweep'='S','Pondicherry'='S',\n",
    "    'Abroad'=-1\n",
    "))"
   ]
  },
  {
   "cell_type": "code",
   "execution_count": null,
   "metadata": {
    "_uuid": "fb873d89c774c2b068b61eacb3260ee9d7179140"
   },
   "outputs": [],
   "source": [
    "data$career <- revalue(data$career,c('Defence'='DEF','Entrepreneurship'='E','Family business'='FB','Higher study'='HS',\n",
    "                                     'Private Sector job'='PRIVATE','Public Sector Job'='PUBLIC'))\n",
    "    "
   ]
  },
  {
   "cell_type": "code",
   "execution_count": null,
   "metadata": {
    "_uuid": "4f170778eb67096c1bb134ce5485113e9ceb0480"
   },
   "outputs": [],
   "source": [
    "data$parents<- revalue(data$parents,c('Defence'='DEF','Business'='BUS','Private Sector'='PRIVATE',\n",
    "                                      'Public Sector'='PUBLIC','Self-Employed'='SELF'))"
   ]
  },
  {
   "cell_type": "code",
   "execution_count": null,
   "metadata": {
    "_uuid": "bab1b696febce72bb05b6fa47a68d86be42fb986"
   },
   "outputs": [],
   "source": [
    "str(data)"
   ]
  },
  {
   "cell_type": "code",
   "execution_count": null,
   "metadata": {
    "_uuid": "6f68c9ca19c811b41eaa0cf8d9ec6e12aa8cf454",
    "scrolled": false
   },
   "outputs": [],
   "source": [
    "barplot(table(data$`college`),main=\"Data distribution of colleges\",xlab=\"College\",ylab=\"Count\",border=\"red\",col=\"blue\",\n",
    "density=10)\n",
    "barplot(table(data$`year`),main=\"Data distribution of years\",xlab=\"Year\",ylab=\"Count\",border=\"red\",col=\"blue\",\n",
    "density=10)\n",
    "barplot(table(data$`stream`),main=\"Data distribution of streams\",xlab=\"Streams\",ylab=\"Count\",border=\"red\",col=\"blue\",\n",
    "density=10)\n",
    "barplot(table(data$`cgpa`),main=\"Data distribution of cgpa\",xlab=\"CGPA\",ylab=\"Count\",border=\"red\",col=\"blue\",\n",
    "density=10)\n",
    "barplot(table(data$`X12th`),main=\"Data distribution of 12th Class\",xlab=\"12th Class\",ylab=\"Count\",border=\"red\",col=\"blue\",\n",
    "density=10)\n",
    "barplot(table(data$`X10th`),main=\"Data distribution of 10th Class\",xlab=\"10th Class\",ylab=\"Count\",border=\"red\",col=\"blue\",\n",
    "density=10)\n",
    "barplot(table(data$`career`),main=\"Data distribution of careers\",xlab=\"Career\",ylab=\"Count\",border=\"red\",col=\"blue\",\n",
    "density=10)\n",
    "barplot(table(data$`parents`),main=\"Data distribution of parent's job\",xlab=\"Parent's job\",ylab=\"Count\",border=\"red\",col=\"blue\",\n",
    "density=10)\n",
    "barplot(table(data$`income`),main=\"Data distribution of income groups\",xlab=\"Income group\",ylab=\"Count\",border=\"red\",col=\"blue\",\n",
    "density=10)\n",
    "barplot(table(data$`locality`),main=\"Data distribution of localities\",xlab=\"Locality\",ylab=\"Count\",border=\"red\",col=\"blue\",\n",
    "density=10)\n",
    "barplot(table(data$`state`),main=\"Data distribution of States & Union territories\",xlab=\"States & Union territories\",ylab=\"Count\",border=\"red\",col=\"blue\",\n",
    "density=10)"
   ]
  },
  {
   "cell_type": "code",
   "execution_count": null,
   "metadata": {
    "_uuid": "2c0ad7915d0c102fa90b4107a06c2e2cee9ac2f2",
    "scrolled": true
   },
   "outputs": [],
   "source": [
    "jpeg(\"../analysis/college-mosaic.png\")\n",
    "crosstab(data$college,data$career, prop.r=TRUE, format=c(\"SPSS\")) \n",
    "dev.off()\n",
    "jpeg(\"../analysis/year-mosaic.png\")\n",
    "crosstab(data$year,data$career, prop.r=TRUE, format=c(\"SPSS\")) \n",
    "dev.off()\n",
    "jpeg(\"../analysis/stream-mosaic.png\")\n",
    "crosstab(data$stream,data$career, prop.r=TRUE, format=c(\"SPSS\")) \n",
    "dev.off()\n",
    "jpeg(\"../analysis/cgpa-mosaic.png\")\n",
    "crosstab(data$cgpa,data$career, prop.r=TRUE, format=c(\"SPSS\")) \n",
    "dev.off()\n",
    "jpeg(\"../analysis/X12th-mosaic.png\")\n",
    "crosstab(data$X12th,data$career, prop.r=TRUE, format=c(\"SPSS\")) \n",
    "dev.off()\n",
    "jpeg(\"../analysis/X10th-mosaic.png\")\n",
    "crosstab(data$X10th,data$career, prop.r=TRUE, format=c(\"SPSS\")) \n",
    "dev.off()\n",
    "jpeg(\"../analysis/parents-mosaic.png\")\n",
    "crosstab(data$parents,data$career, prop.r=TRUE, format=c(\"SPSS\")) \n",
    "dev.off()\n",
    "jpeg(\"../analysis/income-mosaic.png\")\n",
    "crosstab(data$income,data$career, prop.r=TRUE, format=c(\"SPSS\")) \n",
    "dev.off()\n",
    "jpeg(\"../analysis/locality-mosaic.png\")\n",
    "crosstab(data$locality,data$career, prop.r=TRUE, format=c(\"SPSS\")) \n",
    "dev.off()\n",
    "jpeg(\"../analysis/state-mosaic.png\")\n",
    "crosstab(data$state,data$career, prop.r=TRUE, format=c(\"SPSS\")) \n",
    "dev.off()"
   ]
  },
  {
   "cell_type": "code",
   "execution_count": null,
   "metadata": {
    "_uuid": "3af3a69d2035d5ec14a0370e2c8456f9fc50176b"
   },
   "outputs": [],
   "source": [
    "# svg(file = \"decision_tree.svg\")\n",
    "ct <- ctree(\n",
    "  career ~ ., \n",
    "  data = data,\n",
    "  control = ctree_control(minsplit=2, minbucket=5, mincriterion=.85))\n",
    "plot(as.simpleparty(ct))\n",
    "# dev.off()"
   ]
  },
  {
   "cell_type": "code",
   "execution_count": null,
   "metadata": {
    "_uuid": "af9431172f818dbfe9a68471677b4986decd020c"
   },
   "outputs": [],
   "source": [
    "ct <- ctree(\n",
    "  career ~ ., \n",
    "  data = data,\n",
    "  control = ctree_control(minsplit=2, minbucket=5, mincriterion=.5))\n",
    "print(ct)"
   ]
  }
 ],
 "metadata": {
  "kernelspec": {
   "display_name": "R",
   "language": "R",
   "name": "ir"
  },
  "language_info": {
   "codemirror_mode": "r",
   "file_extension": ".r",
   "mimetype": "text/x-r-source",
   "name": "R",
   "pygments_lexer": "r",
   "version": "3.5.2"
  }
 },
 "nbformat": 4,
 "nbformat_minor": 1
}
