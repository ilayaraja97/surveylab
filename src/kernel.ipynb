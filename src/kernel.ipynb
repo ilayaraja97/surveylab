{
 "cells": [
  {
   "cell_type": "code",
   "execution_count": 2,
   "metadata": {
    "_uuid": "85bbd6270317d3f949b38c746216d19c6bbefe5e"
   },
   "outputs": [
    {
     "name": "stderr",
     "output_type": "stream",
     "text": [
      "Loading required package: grid\n",
      "Loading required package: libcoin\n",
      "Loading required package: mvtnorm\n",
      "-- Attaching packages --------------------------------------- tidyverse 1.2.1 --\n",
      "v ggplot2 3.1.0       v purrr   0.3.0  \n",
      "v tibble  2.0.1       v dplyr   0.8.0.1\n",
      "v tidyr   0.8.2       v stringr 1.4.0  \n",
      "v readr   1.3.1       v forcats 0.4.0  \n",
      "-- Conflicts ------------------------------------------ tidyverse_conflicts() --\n",
      "x dplyr::arrange()   masks plyr::arrange()\n",
      "x purrr::compact()   masks plyr::compact()\n",
      "x dplyr::count()     masks plyr::count()\n",
      "x dplyr::failwith()  masks plyr::failwith()\n",
      "x dplyr::filter()    masks stats::filter()\n",
      "x dplyr::id()        masks plyr::id()\n",
      "x dplyr::lag()       masks stats::lag()\n",
      "x dplyr::mutate()    masks plyr::mutate()\n",
      "x dplyr::rename()    masks plyr::rename()\n",
      "x dplyr::summarise() masks plyr::summarise()\n",
      "x dplyr::summarize() masks plyr::summarize()\n"
     ]
    }
   ],
   "source": [
    "library(\"plyr\")\n",
    "library(descr)\n",
    "library(\"partykit\")\n",
    "library(\"tidyverse\")\n",
    "data <- read.csv(file=\"../input/Career.csv\")"
   ]
  },
  {
   "cell_type": "code",
   "execution_count": 3,
   "metadata": {
    "_uuid": "54668e164a707682b174b1ffb9a09d3d528d4249"
   },
   "outputs": [
    {
     "data": {
      "text/html": [
       "<table>\n",
       "<thead><tr><th scope=col>college</th><th scope=col>year</th><th scope=col>stream</th><th scope=col>cgpa</th><th scope=col>X12th</th><th scope=col>X10th</th><th scope=col>career</th><th scope=col>parents</th><th scope=col>income</th><th scope=col>locality</th><th scope=col>state</th></tr></thead>\n",
       "<tbody>\n",
       "\t<tr><td><span style=white-space:pre-wrap>IIITs     </span>                                </td><td>2nd                                                                               </td><td><span style=white-space:pre-wrap>Computer science and engineering,         </span></td><td>&lt;6                                                                             </td><td>Private School                                                                    </td><td>Private School                                                                    </td><td><span style=white-space:pre-wrap>Higher study      </span>                        </td><td>Public Sector                                                                     </td><td>&gt; 10 lakhs                                                                     </td><td>Urban                                                                             </td><td><span style=white-space:pre-wrap>Rajasthan    </span>                             </td></tr>\n",
       "\t<tr><td>Government                                </td><td>4th                                       </td><td>Chemical engineering,                     </td><td>6-8                                       </td><td>Private School                            </td><td>Private School                            </td><td>Public Sector Job                         </td><td>Public Sector                             </td><td>3-6 lakhs                                 </td><td>Urban                                     </td><td>Haryana                                   </td></tr>\n",
       "\t<tr><td><span style=white-space:pre-wrap>NITs      </span>                                </td><td>4th                                                                               </td><td><span style=white-space:pre-wrap>Civil engineering,                        </span></td><td>6-8                                                                               </td><td>Private School                                                                    </td><td>Private School                                                                    </td><td>Public Sector Job                                                                 </td><td>Self-Employed                                                                     </td><td>&lt; 3 lakhs                                                                      </td><td>Rural                                                                             </td><td><span style=white-space:pre-wrap>Rajasthan    </span>                             </td></tr>\n",
       "\t<tr><td>Government                                                </td><td>4th                                                       </td><td>Electronics and communication engineering,                </td><td>6-8                                                       </td><td>Private School                                            </td><td>Private School                                            </td><td><span style=white-space:pre-wrap>Entrepreneurship  </span></td><td>Public Sector                                             </td><td>&gt; 10 lakhs                                             </td><td>Urban                                                     </td><td><span style=white-space:pre-wrap>Delhi        </span>     </td></tr>\n",
       "\t<tr><td>Private                                   </td><td>3rd                                       </td><td>Information technology,                   </td><td>6-8                                       </td><td>Private School                            </td><td>Private School                            </td><td>Private Sector job                        </td><td>Business                                  </td><td>3-6 lakhs                                 </td><td>Urban                                     </td><td>Uttar Pradesh                             </td></tr>\n",
       "\t<tr><td><span style=white-space:pre-wrap>IIITs     </span>                                </td><td>1st                                                                               </td><td><span style=white-space:pre-wrap>Computer science and engineering,         </span></td><td>&gt;8                                                                             </td><td>Private School                                                                    </td><td>Private School                                                                    </td><td>Private Sector job                                                                </td><td>Self-Employed                                                                     </td><td>3-6 lakhs                                                                         </td><td>Urban                                                                             </td><td>Uttar Pradesh                                                                     </td></tr>\n",
       "</tbody>\n",
       "</table>\n"
      ],
      "text/latex": [
       "\\begin{tabular}{r|lllllllllll}\n",
       " college & year & stream & cgpa & X12th & X10th & career & parents & income & locality & state\\\\\n",
       "\\hline\n",
       "\t IIITs                                      & 2nd                                        & Computer science and engineering,          & <6                                         & Private School                             & Private School                             & Higher study                               & Public Sector                              & > 10 lakhs                                 & Urban                                      & Rajasthan                                 \\\\\n",
       "\t Government                                 & 4th                                        & Chemical engineering,                      & 6-8                                        & Private School                             & Private School                             & Public Sector Job                          & Public Sector                              & 3-6 lakhs                                  & Urban                                      & Haryana                                   \\\\\n",
       "\t NITs                                       & 4th                                        & Civil engineering,                         & 6-8                                        & Private School                             & Private School                             & Public Sector Job                          & Self-Employed                              & < 3 lakhs                                  & Rural                                      & Rajasthan                                 \\\\\n",
       "\t Government                                 & 4th                                        & Electronics and communication engineering, & 6-8                                        & Private School                             & Private School                             & Entrepreneurship                           & Public Sector                              & > 10 lakhs                                 & Urban                                      & Delhi                                     \\\\\n",
       "\t Private                                    & 3rd                                        & Information technology,                    & 6-8                                        & Private School                             & Private School                             & Private Sector job                         & Business                                   & 3-6 lakhs                                  & Urban                                      & Uttar Pradesh                             \\\\\n",
       "\t IIITs                                      & 1st                                        & Computer science and engineering,          & >8                                         & Private School                             & Private School                             & Private Sector job                         & Self-Employed                              & 3-6 lakhs                                  & Urban                                      & Uttar Pradesh                             \\\\\n",
       "\\end{tabular}\n"
      ],
      "text/markdown": [
       "\n",
       "| college | year | stream | cgpa | X12th | X10th | career | parents | income | locality | state |\n",
       "|---|---|---|---|---|---|---|---|---|---|---|\n",
       "| IIITs                                      | 2nd                                        | Computer science and engineering,          | <6                                         | Private School                             | Private School                             | Higher study                               | Public Sector                              | > 10 lakhs                                 | Urban                                      | Rajasthan                                  |\n",
       "| Government                                 | 4th                                        | Chemical engineering,                      | 6-8                                        | Private School                             | Private School                             | Public Sector Job                          | Public Sector                              | 3-6 lakhs                                  | Urban                                      | Haryana                                    |\n",
       "| NITs                                       | 4th                                        | Civil engineering,                         | 6-8                                        | Private School                             | Private School                             | Public Sector Job                          | Self-Employed                              | < 3 lakhs                                  | Rural                                      | Rajasthan                                  |\n",
       "| Government                                 | 4th                                        | Electronics and communication engineering, | 6-8                                        | Private School                             | Private School                             | Entrepreneurship                           | Public Sector                              | > 10 lakhs                                 | Urban                                      | Delhi                                      |\n",
       "| Private                                    | 3rd                                        | Information technology,                    | 6-8                                        | Private School                             | Private School                             | Private Sector job                         | Business                                   | 3-6 lakhs                                  | Urban                                      | Uttar Pradesh                              |\n",
       "| IIITs                                      | 1st                                        | Computer science and engineering,          | >8                                         | Private School                             | Private School                             | Private Sector job                         | Self-Employed                              | 3-6 lakhs                                  | Urban                                      | Uttar Pradesh                              |\n",
       "\n"
      ],
      "text/plain": [
       "  college    year stream                                     cgpa\n",
       "1 IIITs      2nd  Computer science and engineering,          <6  \n",
       "2 Government 4th  Chemical engineering,                      6-8 \n",
       "3 NITs       4th  Civil engineering,                         6-8 \n",
       "4 Government 4th  Electronics and communication engineering, 6-8 \n",
       "5 Private    3rd  Information technology,                    6-8 \n",
       "6 IIITs      1st  Computer science and engineering,          >8  \n",
       "  X12th          X10th          career             parents       income    \n",
       "1 Private School Private School Higher study       Public Sector > 10 lakhs\n",
       "2 Private School Private School Public Sector Job  Public Sector 3-6 lakhs \n",
       "3 Private School Private School Public Sector Job  Self-Employed < 3 lakhs \n",
       "4 Private School Private School Entrepreneurship   Public Sector > 10 lakhs\n",
       "5 Private School Private School Private Sector job Business      3-6 lakhs \n",
       "6 Private School Private School Private Sector job Self-Employed 3-6 lakhs \n",
       "  locality state        \n",
       "1 Urban    Rajasthan    \n",
       "2 Urban    Haryana      \n",
       "3 Rural    Rajasthan    \n",
       "4 Urban    Delhi        \n",
       "5 Urban    Uttar Pradesh\n",
       "6 Urban    Uttar Pradesh"
      ]
     },
     "metadata": {},
     "output_type": "display_data"
    }
   ],
   "source": [
    "head(data)"
   ]
  },
  {
   "cell_type": "code",
   "execution_count": 4,
   "metadata": {
    "_uuid": "f6edbd6ce6667d1b550a7e02b343058f1eceac63"
   },
   "outputs": [
    {
     "data": {
      "text/plain": [
       "       college     year                                            stream   \n",
       " Government: 48   1st:104   Computer science and engineering,         :123  \n",
       " IIITs     :133   2nd: 56   Electronics and communication engineering,: 89  \n",
       " IITs      :  6   3rd: 81   Mechanical engineering,                   : 33  \n",
       " NITs      :109   4th: 97   Electrical engineering,                   : 25  \n",
       " Private   : 42             Civil engineering,                        : 17  \n",
       "                            Information technology,                   : 16  \n",
       "                            (Other)                                   : 35  \n",
       "  cgpa                X12th                X10th                    career   \n",
       " <6 : 25   Private School:237   Private School:243   Defence           : 18  \n",
       " >8 :128   Public School :101   Public School : 95   Entrepreneurship  : 36  \n",
       " 6-8:185                                             Family business   :  2  \n",
       "                                                     Higher study      : 43  \n",
       "                                                     Private Sector job:107  \n",
       "                                                     Public Sector Job :132  \n",
       "                                                                             \n",
       "           parents           income    locality              state    \n",
       " Business      : 49   < 3 lakhs :92   Rural:106   Rajasthan     :142  \n",
       " Defence       : 15   > 10 lakhs:69   Urban:232   Uttar Pradesh :102  \n",
       " Private Sector: 51   3-6 lakhs :96               Madhya Pradesh: 16  \n",
       " Public Sector :150   6-10 lakhs:81               Haryana       : 14  \n",
       " Self-Employed : 73                               Kerala        : 14  \n",
       "                                                  Delhi         :  9  \n",
       "                                                  (Other)       : 41  "
      ]
     },
     "metadata": {},
     "output_type": "display_data"
    }
   ],
   "source": [
    "summary(data)"
   ]
  },
  {
   "cell_type": "code",
   "execution_count": 5,
   "metadata": {
    "_uuid": "69547f97b6743a90dbe0b2d93d97d4c3e048a657"
   },
   "outputs": [
    {
     "name": "stdout",
     "output_type": "stream",
     "text": [
      "'data.frame':\t338 obs. of  11 variables:\n",
      " $ college : Factor w/ 5 levels \"Government\",\"IIITs\",..: 2 1 4 1 5 2 2 2 2 2 ...\n",
      " $ year    : Factor w/ 4 levels \"1st\",\"2nd\",\"3rd\",..: 2 4 4 4 3 1 2 2 3 1 ...\n",
      " $ stream  : Factor w/ 13 levels \"Biological engineering\",..: 5 2 3 8 9 5 8 5 8 8 ...\n",
      " $ cgpa    : Factor w/ 3 levels \"<6\",\">8\",\"6-8\": 1 3 3 3 3 2 1 3 3 1 ...\n",
      " $ X12th   : Factor w/ 2 levels \"Private School\",..: 1 1 1 1 1 1 2 1 1 1 ...\n",
      " $ X10th   : Factor w/ 2 levels \"Private School\",..: 1 1 1 1 1 1 2 1 1 1 ...\n",
      " $ career  : Factor w/ 6 levels \"Defence\",\"Entrepreneurship\",..: 4 6 6 2 5 5 6 5 5 2 ...\n",
      " $ parents : Factor w/ 5 levels \"Business\",\"Defence\",..: 4 4 5 4 1 5 5 4 3 1 ...\n",
      " $ income  : Factor w/ 4 levels \"< 3 lakhs\",\"> 10 lakhs\",..: 2 3 1 2 3 3 1 4 1 2 ...\n",
      " $ locality: Factor w/ 2 levels \"Rural\",\"Urban\": 2 2 1 2 2 2 1 2 2 2 ...\n",
      " $ state   : Factor w/ 19 levels \"Abroad\",\"Andhra Pradesh\",..: 15 6 15 4 17 17 3 17 15 17 ...\n"
     ]
    }
   ],
   "source": [
    "str(data)"
   ]
  },
  {
   "cell_type": "code",
   "execution_count": 6,
   "metadata": {
    "_uuid": "a575af786ba44aa27aab8e1a672d0b7458bb96a8"
   },
   "outputs": [
    {
     "name": "stderr",
     "output_type": "stream",
     "text": [
      "The following `from` values were not present in `x`: Mechatronics engineering,, Environmental engineering,, Architecture and construction engineering,, Highway engineering,, Marine engineering,, Automobile engineering,, Aeronautical engineering,, Aerospace engineering,, Telecommunication engineering,, Electronics and communication engineering,, Agricultural engineering,, Instrumental engineering,, Architectural, Biological Science, Bio-Medical, Nuclear engineering, Systems engineering\n"
     ]
    }
   ],
   "source": [
    "data$stream <- revalue(data$stream,c(\n",
    "    'Computer science and engineering,'='COMP','Electronics and communication engineering,'='ELEC',\n",
    "    'Information technology,'='COMP','Mechanical engineering,'='MECH','Civil engineering,'='MECH',\n",
    "    'Mechatronics engineering,'='MECH','Electrical and electronics and engineering'='ELEC',\n",
    "    'Environmental engineering,'='CHEM','Architecture and construction engineering,'='MECH',\n",
    "    'Highway engineering,'='MECH','Computer engineering,'='COMP','Marine engineering,'='CHEM',\n",
    "    'Automobile engineering,'='MECH','Aeronautical engineering,'='MECH','Aerospace engineering,'='MECH',\n",
    "    'Telecommunication engineering,'='ELEC','Electronics and communication engineering,'='ELEC',\n",
    "    'Agricultural engineering,'='CHEM','Production and industrial engineering,'='MECH',\n",
    "    'Chemical engineering,'='CHEM','Electrical engineering,'='ELEC','Instrumental engineering,'='ELEC',\n",
    "    'Mining engineering,'='CHEM','Architectural'='MECH','Biological Science'='CHEM','Bio-Medical'='CHEM',\n",
    "    'Biological engineering'='CHEM','Nuclear engineering'='CHEM','Systems engineering'='COMP','Others'=-1\n",
    "))"
   ]
  },
  {
   "cell_type": "code",
   "execution_count": 7,
   "metadata": {
    "_uuid": "78141fdb164208770942f3773516a079df6f498f"
   },
   "outputs": [
    {
     "name": "stderr",
     "output_type": "stream",
     "text": [
      "The following `from` values were not present in `x`: Chandigarh, Arunachal Pradesh, Assam, Chhattisgarh, Goa, Himachal Pradesh, Jammu and Kashmir, Manipur, Meghalaya, Mizoram, Nagaland, Sikkim, Tamil Nadu, Tripura, Andaman and Nicobar Islands, Dadra and Nagar Haveli, Daman and Diu, Pondicherry\n"
     ]
    }
   ],
   "source": [
    "data$state <- revalue(data$state,c(\n",
    "    'Rajasthan'='W','Delhi'='N','Haryana'='N','Punjab'='N','Chandigarh'='N','Andhra Pradesh'='S',\n",
    "    'Telangana'='S','Arunachal Pradesh'='E','Assam'='E','Bihar'='C','Chhattisgarh'='C','Goa'='S',\n",
    "    'Gujarat'='W','Himachal Pradesh'='N','Jammu and Kashmir'='N','Jharkhand'='C','Karnataka'='S',\n",
    "    'Kerala'='S','Madhya Pradesh'='C','Maharashtra'='C','Manipur'='E','Meghalaya'='E','Mizoram'='E',\n",
    "    'Nagaland'='E','Odisha'='E','Sikkim'='E','Tamil Nadu'='S','Tripura'='E','Uttar Pradesh'='N',\n",
    "    'Uttarakhand'='N','West Bengal'='E','Andaman and Nicobar Islands'='S',\n",
    "    'Dadra and Nagar Haveli'='W','Daman and Diu'='W','Lakshadweep'='S','Pondicherry'='S',\n",
    "    'Abroad'=-1\n",
    "))"
   ]
  },
  {
   "cell_type": "code",
   "execution_count": 8,
   "metadata": {
    "_uuid": "fb873d89c774c2b068b61eacb3260ee9d7179140"
   },
   "outputs": [],
   "source": [
    "data$career <- revalue(data$career,c('Defence'='DEF','Entrepreneurship'='E','Family business'='FB','Higher study'='HS',\n",
    "                                     'Private Sector job'='PRIVATE','Public Sector Job'='PUBLIC'))\n",
    "    "
   ]
  },
  {
   "cell_type": "code",
   "execution_count": 9,
   "metadata": {
    "_uuid": "4f170778eb67096c1bb134ce5485113e9ceb0480"
   },
   "outputs": [],
   "source": [
    "data$parents<- revalue(data$parents,c('Defence'='DEF','Business'='BUS','Private Sector'='PRIVATE',\n",
    "                                      'Public Sector'='PUBLIC','Self-Employed'='SELF'))"
   ]
  },
  {
   "cell_type": "code",
   "execution_count": 10,
   "metadata": {
    "_uuid": "bab1b696febce72bb05b6fa47a68d86be42fb986"
   },
   "outputs": [
    {
     "name": "stdout",
     "output_type": "stream",
     "text": [
      "'data.frame':\t338 obs. of  11 variables:\n",
      " $ college : Factor w/ 5 levels \"Government\",\"IIITs\",..: 2 1 4 1 5 2 2 2 2 2 ...\n",
      " $ year    : Factor w/ 4 levels \"1st\",\"2nd\",\"3rd\",..: 2 4 4 4 3 1 2 2 3 1 ...\n",
      " $ stream  : Factor w/ 5 levels \"CHEM\",\"MECH\",..: 3 1 2 4 3 3 4 3 4 4 ...\n",
      " $ cgpa    : Factor w/ 3 levels \"<6\",\">8\",\"6-8\": 1 3 3 3 3 2 1 3 3 1 ...\n",
      " $ X12th   : Factor w/ 2 levels \"Private School\",..: 1 1 1 1 1 1 2 1 1 1 ...\n",
      " $ X10th   : Factor w/ 2 levels \"Private School\",..: 1 1 1 1 1 1 2 1 1 1 ...\n",
      " $ career  : Factor w/ 6 levels \"DEF\",\"E\",\"FB\",..: 4 6 6 2 5 5 6 5 5 2 ...\n",
      " $ parents : Factor w/ 5 levels \"BUS\",\"DEF\",\"PRIVATE\",..: 4 4 5 4 1 5 5 4 3 1 ...\n",
      " $ income  : Factor w/ 4 levels \"< 3 lakhs\",\"> 10 lakhs\",..: 2 3 1 2 3 3 1 4 1 2 ...\n",
      " $ locality: Factor w/ 2 levels \"Rural\",\"Urban\": 2 2 1 2 2 2 1 2 2 2 ...\n",
      " $ state   : Factor w/ 6 levels \"-1\",\"S\",\"C\",\"N\",..: 5 4 5 4 4 4 3 4 5 4 ...\n"
     ]
    }
   ],
   "source": [
    "str(data)"
   ]
  },
  {
   "cell_type": "code",
   "execution_count": 38,
   "metadata": {
    "_uuid": "6f68c9ca19c811b41eaa0cf8d9ec6e12aa8cf454",
    "scrolled": false
   },
   "outputs": [
    {
     "data": {
      "text/html": [
       "<strong>png:</strong> 2"
      ],
      "text/latex": [
       "\\textbf{png:} 2"
      ],
      "text/markdown": [
       "**png:** 2"
      ],
      "text/plain": [
       "png \n",
       "  2 "
      ]
     },
     "metadata": {},
     "output_type": "display_data"
    },
    {
     "data": {
      "text/html": [
       "<strong>png:</strong> 2"
      ],
      "text/latex": [
       "\\textbf{png:} 2"
      ],
      "text/markdown": [
       "**png:** 2"
      ],
      "text/plain": [
       "png \n",
       "  2 "
      ]
     },
     "metadata": {},
     "output_type": "display_data"
    },
    {
     "data": {
      "text/html": [
       "<strong>png:</strong> 2"
      ],
      "text/latex": [
       "\\textbf{png:} 2"
      ],
      "text/markdown": [
       "**png:** 2"
      ],
      "text/plain": [
       "png \n",
       "  2 "
      ]
     },
     "metadata": {},
     "output_type": "display_data"
    },
    {
     "data": {
      "text/html": [
       "<strong>png:</strong> 2"
      ],
      "text/latex": [
       "\\textbf{png:} 2"
      ],
      "text/markdown": [
       "**png:** 2"
      ],
      "text/plain": [
       "png \n",
       "  2 "
      ]
     },
     "metadata": {},
     "output_type": "display_data"
    },
    {
     "data": {
      "text/html": [
       "<strong>png:</strong> 2"
      ],
      "text/latex": [
       "\\textbf{png:} 2"
      ],
      "text/markdown": [
       "**png:** 2"
      ],
      "text/plain": [
       "png \n",
       "  2 "
      ]
     },
     "metadata": {},
     "output_type": "display_data"
    },
    {
     "data": {
      "text/html": [
       "<strong>png:</strong> 2"
      ],
      "text/latex": [
       "\\textbf{png:} 2"
      ],
      "text/markdown": [
       "**png:** 2"
      ],
      "text/plain": [
       "png \n",
       "  2 "
      ]
     },
     "metadata": {},
     "output_type": "display_data"
    },
    {
     "data": {
      "text/html": [
       "<strong>png:</strong> 2"
      ],
      "text/latex": [
       "\\textbf{png:} 2"
      ],
      "text/markdown": [
       "**png:** 2"
      ],
      "text/plain": [
       "png \n",
       "  2 "
      ]
     },
     "metadata": {},
     "output_type": "display_data"
    },
    {
     "data": {
      "text/html": [
       "<strong>png:</strong> 2"
      ],
      "text/latex": [
       "\\textbf{png:} 2"
      ],
      "text/markdown": [
       "**png:** 2"
      ],
      "text/plain": [
       "png \n",
       "  2 "
      ]
     },
     "metadata": {},
     "output_type": "display_data"
    },
    {
     "data": {
      "text/html": [
       "<strong>png:</strong> 2"
      ],
      "text/latex": [
       "\\textbf{png:} 2"
      ],
      "text/markdown": [
       "**png:** 2"
      ],
      "text/plain": [
       "png \n",
       "  2 "
      ]
     },
     "metadata": {},
     "output_type": "display_data"
    },
    {
     "data": {
      "text/html": [
       "<strong>png:</strong> 2"
      ],
      "text/latex": [
       "\\textbf{png:} 2"
      ],
      "text/markdown": [
       "**png:** 2"
      ],
      "text/plain": [
       "png \n",
       "  2 "
      ]
     },
     "metadata": {},
     "output_type": "display_data"
    },
    {
     "data": {
      "text/html": [
       "<strong>png:</strong> 2"
      ],
      "text/latex": [
       "\\textbf{png:} 2"
      ],
      "text/markdown": [
       "**png:** 2"
      ],
      "text/plain": [
       "png \n",
       "  2 "
      ]
     },
     "metadata": {},
     "output_type": "display_data"
    }
   ],
   "source": [
    "jpeg(\"../analysis/college-hist.png\")\n",
    "barplot(table(data$`college`),main=\"Data distribution of colleges\",xlab=\"College\",ylab=\"Count\",col=c(\"#023024\",\"#124034\",\"#247F67\",\"#36BF9B\",\"#41E5BA\",\"#48FFCF\"))\n",
    "dev.off()\n",
    "jpeg(\"../analysis/year-hist.png\")\n",
    "barplot(table(data$`year`),main=\"Data distribution of years\",xlab=\"Year\",ylab=\"Count\",col=c(\"#023024\",\"#124034\",\"#247F67\",\"#36BF9B\",\"#41E5BA\",\"#48FFCF\"))\n",
    "dev.off()\n",
    "jpeg(\"../analysis/stream-hist.png\")\n",
    "barplot(table(data$`stream`),main=\"Data distribution of streams\",xlab=\"Streams\",ylab=\"Count\",col=c(\"#023024\",\"#124034\",\"#247F67\",\"#36BF9B\",\"#41E5BA\",\"#48FFCF\"))\n",
    "dev.off()\n",
    "jpeg(\"../analysis/cgpa-hist.png\")\n",
    "barplot(table(data$`cgpa`),main=\"Data distribution of cgpa\",xlab=\"CGPA\",ylab=\"Count\",col=c(\"#023024\",\"#124034\",\"#247F67\",\"#36BF9B\",\"#41E5BA\",\"#48FFCF\"))\n",
    "dev.off()\n",
    "jpeg(\"../analysis/X12th-hist.png\")\n",
    "barplot(table(data$`X12th`),main=\"Data distribution of 12th Class\",xlab=\"12th Class\",ylab=\"Count\",col=c(\"#124034\",\"#247F67\",\"#36BF9B\",\"#41E5BA\",\"#48FFCF\"))\n",
    "dev.off()\n",
    "jpeg(\"../analysis/X10th-hist.png\")\n",
    "barplot(table(data$`X10th`),main=\"Data distribution of 10th Class\",xlab=\"10th Class\",ylab=\"Count\",col=c(\"#124034\",\"#247F67\",\"#36BF9B\",\"#41E5BA\",\"#48FFCF\"))\n",
    "dev.off()\n",
    "jpeg(\"../analysis/career-hist.png\")\n",
    "barplot(table(data$`career`),main=\"Data distribution of careers\",xlab=\"Career\",ylab=\"Count\",col=c(\"#023024\",\"#124034\",\"#247F67\",\"#36BF9B\",\"#41E5BA\",\"#48FFCF\"))\n",
    "dev.off()\n",
    "jpeg(\"../analysis/parents-hist.png\")\n",
    "barplot(table(data$`parents`),main=\"Data distribution of parent's job\",xlab=\"Parent's job\",ylab=\"Count\",col=c(\"#023024\",\"#124034\",\"#247F67\",\"#36BF9B\",\"#41E5BA\",\"#48FFCF\"))\n",
    "dev.off()\n",
    "jpeg(\"../analysis/income-hist.png\")\n",
    "barplot(table(data$`income`),main=\"Data distribution of income groups\",xlab=\"Income group\",ylab=\"Count\",col=c(\"#023024\",\"#124034\",\"#247F67\",\"#36BF9B\",\"#41E5BA\",\"#48FFCF\"))\n",
    "dev.off()\n",
    "jpeg(\"../analysis/locality-hist.png\")\n",
    "barplot(table(data$`locality`),main=\"Data distribution of localities\",xlab=\"Locality\",ylab=\"Count\",col=c(\"#124034\",\"#247F67\",\"#36BF9B\",\"#41E5BA\",\"#48FFCF\"))\n",
    "dev.off()\n",
    "jpeg(\"../analysis/state-hist.png\")\n",
    "barplot(table(data$`state`),main=\"Data distribution of Zones\",xlab=\"Zone\",ylab=\"Count\",col=c(\"#023024\",\"#124034\",\"#247F67\",\"#36BF9B\",\"#41E5BA\",\"#48FFCF\"))\n",
    "dev.off()"
   ]
  },
  {
   "cell_type": "code",
   "execution_count": 37,
   "metadata": {},
   "outputs": [
    {
     "data": {
      "text/html": [
       "<strong>png:</strong> 2"
      ],
      "text/latex": [
       "\\textbf{png:} 2"
      ],
      "text/markdown": [
       "**png:** 2"
      ],
      "text/plain": [
       "png \n",
       "  2 "
      ]
     },
     "metadata": {},
     "output_type": "display_data"
    },
    {
     "data": {
      "text/html": [
       "<strong>png:</strong> 2"
      ],
      "text/latex": [
       "\\textbf{png:} 2"
      ],
      "text/markdown": [
       "**png:** 2"
      ],
      "text/plain": [
       "png \n",
       "  2 "
      ]
     },
     "metadata": {},
     "output_type": "display_data"
    },
    {
     "data": {
      "text/html": [
       "<strong>png:</strong> 2"
      ],
      "text/latex": [
       "\\textbf{png:} 2"
      ],
      "text/markdown": [
       "**png:** 2"
      ],
      "text/plain": [
       "png \n",
       "  2 "
      ]
     },
     "metadata": {},
     "output_type": "display_data"
    },
    {
     "data": {
      "text/html": [
       "<strong>png:</strong> 2"
      ],
      "text/latex": [
       "\\textbf{png:} 2"
      ],
      "text/markdown": [
       "**png:** 2"
      ],
      "text/plain": [
       "png \n",
       "  2 "
      ]
     },
     "metadata": {},
     "output_type": "display_data"
    },
    {
     "data": {
      "text/html": [
       "<strong>png:</strong> 2"
      ],
      "text/latex": [
       "\\textbf{png:} 2"
      ],
      "text/markdown": [
       "**png:** 2"
      ],
      "text/plain": [
       "png \n",
       "  2 "
      ]
     },
     "metadata": {},
     "output_type": "display_data"
    },
    {
     "data": {
      "text/html": [
       "<strong>png:</strong> 2"
      ],
      "text/latex": [
       "\\textbf{png:} 2"
      ],
      "text/markdown": [
       "**png:** 2"
      ],
      "text/plain": [
       "png \n",
       "  2 "
      ]
     },
     "metadata": {},
     "output_type": "display_data"
    },
    {
     "data": {
      "text/html": [
       "<strong>png:</strong> 2"
      ],
      "text/latex": [
       "\\textbf{png:} 2"
      ],
      "text/markdown": [
       "**png:** 2"
      ],
      "text/plain": [
       "png \n",
       "  2 "
      ]
     },
     "metadata": {},
     "output_type": "display_data"
    },
    {
     "data": {
      "text/html": [
       "<strong>png:</strong> 2"
      ],
      "text/latex": [
       "\\textbf{png:} 2"
      ],
      "text/markdown": [
       "**png:** 2"
      ],
      "text/plain": [
       "png \n",
       "  2 "
      ]
     },
     "metadata": {},
     "output_type": "display_data"
    },
    {
     "data": {
      "text/html": [
       "<strong>png:</strong> 2"
      ],
      "text/latex": [
       "\\textbf{png:} 2"
      ],
      "text/markdown": [
       "**png:** 2"
      ],
      "text/plain": [
       "png \n",
       "  2 "
      ]
     },
     "metadata": {},
     "output_type": "display_data"
    },
    {
     "data": {
      "text/html": [
       "<strong>png:</strong> 2"
      ],
      "text/latex": [
       "\\textbf{png:} 2"
      ],
      "text/markdown": [
       "**png:** 2"
      ],
      "text/plain": [
       "png \n",
       "  2 "
      ]
     },
     "metadata": {},
     "output_type": "display_data"
    }
   ],
   "source": [
    "jpeg(\"../analysis/college-mosaic.png\")\n",
    "plot(data$college,data$career,main=\"Colleges vs Career\",xlab=\"College\",ylab=\"Career\",col=c(\"#023024\",\"#124034\",\"#247F67\",\"#36BF9B\",\"#41E5BA\",\"#48FFCF\")) \n",
    "dev.off()\n",
    "jpeg(\"../analysis/year-mosaic.png\")\n",
    "plot(data$year,data$career,main=\"Year vs Career\",xlab=\"Year\",ylab=\"Career\",col=c(\"#023024\",\"#124034\",\"#247F67\",\"#36BF9B\",\"#41E5BA\",\"#48FFCF\")) \n",
    "dev.off()\n",
    "jpeg(\"../analysis/stream-mosaic.png\")\n",
    "plot(data$stream,data$career,main=\"Streams vs Career\",xlab=\"Streams\",ylab=\"Career\",col=c(\"#023024\",\"#124034\",\"#247F67\",\"#36BF9B\",\"#41E5BA\",\"#48FFCF\")) \n",
    "dev.off()\n",
    "jpeg(\"../analysis/cgpa-mosaic.png\")\n",
    "plot(data$cgpa,data$career,main=\"CGPA vs Career\",xlab=\"CGPA\",ylab=\"Career\",col=c(\"#023024\",\"#124034\",\"#247F67\",\"#36BF9B\",\"#41E5BA\",\"#48FFCF\")) \n",
    "dev.off()\n",
    "jpeg(\"../analysis/X12th-mosaic.png\")\n",
    "plot(data$X12th,data$career,main=\"12th Class vs Career\",xlab=\"12th Class\",ylab=\"Career\",col=c(\"#023024\",\"#124034\",\"#247F67\",\"#36BF9B\",\"#41E5BA\",\"#48FFCF\")) \n",
    "dev.off()\n",
    "jpeg(\"../analysis/X10th-mosaic.png\")\n",
    "plot(data$X10th,data$career,main=\"10th Class vs Career\",xlab=\"10th Class\",ylab=\"Career\",col=c(\"#023024\",\"#124034\",\"#247F67\",\"#36BF9B\",\"#41E5BA\",\"#48FFCF\")) \n",
    "dev.off()\n",
    "jpeg(\"../analysis/parents-mosaic.png\")\n",
    "plot(data$parents,data$career,main=\"Parent's job vs Career\",xlab=\"Parent's job\",ylab=\"Career\",col=c(\"#023024\",\"#124034\",\"#247F67\",\"#36BF9B\",\"#41E5BA\",\"#48FFCF\")) \n",
    "dev.off()\n",
    "jpeg(\"../analysis/income-mosaic.png\")\n",
    "plot(data$income,data$career,main=\"Income group vs Career\",xlab=\"Income group\",ylab=\"Career\",col=c(\"#023024\",\"#124034\",\"#247F67\",\"#36BF9B\",\"#41E5BA\",\"#48FFCF\")) \n",
    "dev.off()\n",
    "jpeg(\"../analysis/locality-mosaic.png\")\n",
    "plot(data$locality,data$career,main=\"Locality vs Career\",xlab=\"Locality\",ylab=\"Career\",col=c(\"#023024\",\"#124034\",\"#247F67\",\"#36BF9B\",\"#41E5BA\",\"#48FFCF\")) \n",
    "dev.off()\n",
    "jpeg(\"../analysis/state-mosaic.png\")\n",
    "plot(data$state,data$career,main=\"Region vs Career\",xlab=\"Region\",ylab=\"Career\",col=c(\"#023024\",\"#124034\",\"#247F67\",\"#36BF9B\",\"#41E5BA\",\"#48FFCF\")) \n",
    "dev.off()"
   ]
  },
  {
   "cell_type": "code",
   "execution_count": 15,
   "metadata": {
    "_uuid": "3af3a69d2035d5ec14a0370e2c8456f9fc50176b"
   },
   "outputs": [
    {
     "data": {
      "text/html": [
       "<strong>png:</strong> 2"
      ],
      "text/latex": [
       "\\textbf{png:} 2"
      ],
      "text/markdown": [
       "**png:** 2"
      ],
      "text/plain": [
       "png \n",
       "  2 "
      ]
     },
     "metadata": {},
     "output_type": "display_data"
    }
   ],
   "source": [
    "svg(file = \"../analysis/decision_tree.svg\")\n",
    "ct <- ctree(\n",
    "  career ~ ., \n",
    "  data = data,\n",
    "  control = ctree_control(minsplit=2, minbucket=5, mincriterion=.5))\n",
    "plot(as.simpleparty(ct))\n",
    "dev.off()"
   ]
  },
  {
   "cell_type": "code",
   "execution_count": 13,
   "metadata": {
    "_uuid": "af9431172f818dbfe9a68471677b4986decd020c"
   },
   "outputs": [
    {
     "name": "stdout",
     "output_type": "stream",
     "text": [
      "\n",
      "Model formula:\n",
      "career ~ college + year + stream + cgpa + X12th + X10th + parents + \n",
      "    income + locality + state\n",
      "\n",
      "Fitted party:\n",
      "[1] root\n",
      "|   [2] stream in CHEM, MECH, ELEC, -1\n",
      "|   |   [3] state in -1, S, N, E\n",
      "|   |   |   [4] state in -1, S, E: PUBLIC (n = 16, err = 62.5%)\n",
      "|   |   |   [5] state in N\n",
      "|   |   |   |   [6] X10th in Private School\n",
      "|   |   |   |   |   [7] X12th in Private School: PUBLIC (n = 51, err = 47.1%)\n",
      "|   |   |   |   |   [8] X12th in Public School: PUBLIC (n = 10, err = 50.0%)\n",
      "|   |   |   |   [9] X10th in Public School: PUBLIC (n = 20, err = 50.0%)\n",
      "|   |   [10] state in C, W\n",
      "|   |   |   [11] locality in Rural: PUBLIC (n = 31, err = 22.6%)\n",
      "|   |   |   [12] locality in Urban: PUBLIC (n = 67, err = 58.2%)\n",
      "|   [13] stream in COMP\n",
      "|   |   [14] income < 3 lakhs, 3-6 lakhs\n",
      "|   |   |   [15] income < 3 lakhs: PRIVATE (n = 30, err = 46.7%)\n",
      "|   |   |   [16] income in 3-6 lakhs\n",
      "|   |   |   |   [17] cgpa <6, >8: PRIVATE (n = 19, err = 63.2%)\n",
      "|   |   |   |   [18] cgpa in 6-8: PRIVATE (n = 20, err = 45.0%)\n",
      "|   |   [19] income > 10 lakhs, 6-10 lakhs\n",
      "|   |   |   [20] parents in BUS, DEF, SELF: PRIVATE (n = 15, err = 60.0%)\n",
      "|   |   |   [21] parents in PRIVATE, PUBLIC: PRIVATE (n = 59, err = 50.8%)\n",
      "\n",
      "Number of inner nodes:    10\n",
      "Number of terminal nodes: 11\n"
     ]
    }
   ],
   "source": [
    "ct <- ctree(\n",
    "  career ~ ., \n",
    "  data = data,\n",
    "  control = ctree_control(minsplit=2, minbucket=5, mincriterion=.5))\n",
    "print(ct)\n",
    "\n"
   ]
  },
  {
   "cell_type": "code",
   "execution_count": 40,
   "metadata": {},
   "outputs": [
    {
     "name": "stderr",
     "output_type": "stream",
     "text": [
      "Saving 6.67 x 6.67 in image\n"
     ]
    },
    {
     "data": {
      "image/png": "[encoded data removed]",
      "text/plain": [
       "plot without title"
      ]
     },
     "metadata": {},
     "output_type": "display_data"
    }
   ],
   "source": [
    "ggplot(data,aes(x=career,fill=career,legend=FALSE))+\n",
    "geom_bar(aes(y=..count../sum(..count..)))+\n",
    "scale_fill_manual(values=c(\"#023024\",\"#124034\",\"#247F67\",\"#36BF9B\",\"#41E5BA\",\"#48FFCF\"),guide = FALSE)+\n",
    "ggtitle(\"Data distribution of careers\")+\n",
    "ggsave(filename=\"../analysis/careers.jpg\")"
   ]
  }
 ],
 "metadata": {
  "kernelspec": {
   "display_name": "R",
   "language": "R",
   "name": "ir"
  },
  "language_info": {
   "codemirror_mode": "r",
   "file_extension": ".r",
   "mimetype": "text/x-r-source",
   "name": "R",
   "pygments_lexer": "r",
   "version": "3.5.2"
  }
 },
 "nbformat": 4,
 "nbformat_minor": 1
}
